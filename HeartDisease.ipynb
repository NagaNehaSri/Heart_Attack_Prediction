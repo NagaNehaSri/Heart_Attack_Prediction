{
  "nbformat": 4,
  "nbformat_minor": 0,
  "metadata": {
    "colab": {
      "provenance": [],
      "authorship_tag": "ABX9TyOU17+qcuYKT9/pjcbSrbR0",
      "include_colab_link": true
    },
    "kernelspec": {
      "name": "python3",
      "display_name": "Python 3"
    },
    "language_info": {
      "name": "python"
    }
  },
  "cells": [
    {
      "cell_type": "markdown",
      "metadata": {
        "id": "view-in-github",
        "colab_type": "text"
      },
      "source": [
        "<a href=\"https://colab.research.google.com/github/NagaNehaSri/Heart_Attack_Prediction/blob/main/HeartDisease.ipynb\" target=\"_parent\"><img src=\"https://colab.research.google.com/assets/colab-badge.svg\" alt=\"Open In Colab\"/></a>"
      ]
    },
    {
      "cell_type": "code",
      "execution_count": null,
      "metadata": {
        "id": "mqqV2xSubEVu"
      },
      "outputs": [],
      "source": [
        "from sklearn.metrics import confusion_matrix, classification_report\n",
        "import seaborn as sn\n",
        "import matplotlib.mlab as mlab\n",
        "import matplotlib.pyplot as plt\n",
        "from sklearn import preprocessing\n",
        "import statsmodels.api as sm\n",
        "import scipy.optimize as opt\n",
        "import numpy as np\n",
        "import pylab as pl\n",
        "import pandas as pd\n",
        "from sklearn.model_selection import train_test_split\n",
        "from sklearn.linear_model import LogisticRegression\n",
        "from sklearn.metrics import jaccard_score"
      ]
    },
    {
      "cell_type": "code",
      "source": [
        "chd_data = pd.read_csv('HeartAttackdata.csv')"
      ],
      "metadata": {
        "id": "cQrAsbiodCqV"
      },
      "execution_count": null,
      "outputs": []
    },
    {
      "cell_type": "code",
      "source": [
        "chd_data.dropna(axis=0, inplace=True)\n",
        "print(chd_data.head(), chd_data.shape)\n",
        "print(chd_data.HeartDisease.value_counts())"
      ],
      "metadata": {
        "colab": {
          "base_uri": "https://localhost:8080/"
        },
        "id": "t7xrRYxJdLEP",
        "outputId": "7b4be1f1-a64c-442a-f72b-92c7bc2beafa"
      },
      "execution_count": null,
      "outputs": [
        {
          "output_type": "stream",
          "name": "stdout",
          "text": [
            "   Age Sex ChestPainType  RestingBP  Cholesterol  FastingBS RestingECG  MaxHR  \\\n",
            "0   40   M           ATA        140          289          0     Normal    172   \n",
            "1   49   F           NAP        160          180          0     Normal    156   \n",
            "2   37   M           ATA        130          283          0         ST     98   \n",
            "3   48   F           ASY        138          214          0     Normal    108   \n",
            "4   54   M           NAP        150          195          0     Normal    122   \n",
            "\n",
            "  ExerciseAngina  Oldpeak ST_Slope  HeartDisease  \n",
            "0              N      0.0       Up             0  \n",
            "1              N      1.0     Flat             1  \n",
            "2              N      0.0       Up             0  \n",
            "3              Y      1.5     Flat             1  \n",
            "4              N      0.0       Up             0   (918, 12)\n",
            "1    508\n",
            "0    410\n",
            "Name: HeartDisease, dtype: int64\n"
          ]
        }
      ]
    },
    {
      "cell_type": "code",
      "source": [
        "plt.figure(figsize=(8, 6))\n",
        "sn.countplot(x=\"HeartDisease\", data=chd_data)\n",
        "plt.show()"
      ],
      "metadata": {
        "colab": {
          "base_uri": "https://localhost:8080/",
          "height": 542
        },
        "id": "NC20gMAbddgW",
        "outputId": "a69f6d2e-2244-4c02-a752-2c1a4478c92c"
      },
      "execution_count": null,
      "outputs": [
        {
          "output_type": "display_data",
          "data": {
            "text/plain": [
              "<Figure size 800x600 with 1 Axes>"
            ],
            "image/png": "[encoded data removed]"
          },
          "metadata": {}
        }
      ]
    },
    {
      "cell_type": "code",
      "source": [
        "# Train and test sets\n",
        "# Declaration of x and y variables (axis)\n",
        "x = np.asarray(chd_data[['Age','RestingBP', 'Cholesterol','MaxHR']])\n",
        "y = np.asarray(chd_data['HeartDisease'])"
      ],
      "metadata": {
        "id": "SXJQAFPyefmW"
      },
      "execution_count": null,
      "outputs": []
    },
    {
      "cell_type": "code",
      "source": [
        "# Normalize the dataset\n",
        "x = preprocessing.StandardScaler().fit(x).transform(x)"
      ],
      "metadata": {
        "id": "1ySCV6WufKQw"
      },
      "execution_count": null,
      "outputs": []
    },
    {
      "cell_type": "code",
      "source": [
        "x_train, x_test, y_train, y_test = train_test_split(\n",
        "    x, y, test_size=0.3, random_state=4)\n",
        "print('Train set: ', x_train.shape, y_train.shape)\n",
        "print('Test set: ', x_test.shape, y_test.shape)"
      ],
      "metadata": {
        "colab": {
          "base_uri": "https://localhost:8080/"
        },
        "id": "rBYMM-ljiLGg",
        "outputId": "2b345f09-00e5-4bb2-a211-36dd5db19aa0"
      },
      "execution_count": null,
      "outputs": [
        {
          "output_type": "stream",
          "name": "stdout",
          "text": [
            "Train set:  (642, 4) (642,)\n",
            "Test set:  (276, 4) (276,)\n"
          ]
        }
      ]
    },
    {
      "cell_type": "code",
      "source": [
        "# Modeling the dataset\n",
        "log_reg = LogisticRegression()\n",
        "log_reg.fit(x_train, y_train)\n",
        "y_pred = log_reg.predict(x_test)"
      ],
      "metadata": {
        "id": "39ip0e0EiO81"
      },
      "execution_count": null,
      "outputs": []
    },
    {
      "cell_type": "code",
      "source": [
        "# Evaluation and accuracy\n",
        "print('')\n",
        "print('Accuracy of the model in Jaccard score is : ',\n",
        "      jaccard_score(y_test, y_pred))"
      ],
      "metadata": {
        "colab": {
          "base_uri": "https://localhost:8080/"
        },
        "id": "cxZ2LNkaiThM",
        "outputId": "88ecb90a-1525-447c-cde9-1070e8961784"
      },
      "execution_count": null,
      "outputs": [
        {
          "output_type": "stream",
          "name": "stdout",
          "text": [
            "\n",
            "Accuracy of the model in Jaccard score is :  0.612565445026178\n"
          ]
        }
      ]
    },
    {
      "cell_type": "code",
      "source": [
        "cm = confusion_matrix(y_test, y_pred)\n",
        "cm_setup = pd.DataFrame(data=cm, columns=[\n",
        "                        'Preddicted:0', 'Preddicted:1'], index=['Actual:0', 'Actual:1'])\n",
        "plt.figure(figsize=(9, 6))\n",
        "sn.heatmap(cm_setup, annot=True, fmt='d', cmap=\"Greens\")\n",
        "plt.show()\n",
        "\n",
        "print('The details for confusion matrix is : ')\n",
        "print(classification_report(y_test, y_pred))"
      ],
      "metadata": {
        "colab": {
          "base_uri": "https://localhost:8080/",
          "height": 696
        },
        "id": "LGIIRhoAiYW5",
        "outputId": "26fc940d-877d-45f6-dd3f-d34dc1839eae"
      },
      "execution_count": null,
      "outputs": [
        {
          "output_type": "display_data",
          "data": {
            "text/plain": [
              "<Figure size 900x600 with 2 Axes>"
            ],
            "image/png": "[encoded data removed]"
          },
          "metadata": {}
        },
        {
          "output_type": "stream",
          "name": "stdout",
          "text": [
            "The details for confusion matrix is : \n",
            "              precision    recall  f1-score   support\n",
            "\n",
            "           0       0.73      0.66      0.70       128\n",
            "           1       0.73      0.79      0.76       148\n",
            "\n",
            "    accuracy                           0.73       276\n",
            "   macro avg       0.73      0.73      0.73       276\n",
            "weighted avg       0.73      0.73      0.73       276\n",
            "\n"
          ]
        }
      ]
    }
  ]
}